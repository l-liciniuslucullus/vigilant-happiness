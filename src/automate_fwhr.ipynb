{
 "cells": [
  {
   "cell_type": "code",
   "execution_count": 2,
   "metadata": {},
   "outputs": [],
   "source": [
    "import numpy as np\n",
    "from features_funcs import pure_landmarks, fwhr\n",
    "from get_features import get_labelled_landmarks, get_features\n",
    "from utils import facing_straight, labels_to_col_nr, normalize_by_eyes, unroll\n",
    "import matplotlib.pyplot as plt\n",
    "import pandas as pd\n"
   ]
  },
  {
   "cell_type": "code",
   "execution_count": null,
   "metadata": {},
   "outputs": [],
   "source": [
    "# def get_faces(file, labels_file, face_id_clean=False, limit_deg=1):\n",
    "#     features = {}\n",
    "#     col_nr, labels = labels_to_col_nr(labels_file)\n",
    "#     with open(file, 'r') as data_file:\n",
    "#         for row in data_file:\n",
    "#             data = row.split(',')\n",
    "#             face_id, labelled_data, ok = get_labelled_landmarks(\n",
    "#                 data, col_nr, labels, face_id_clean=face_id_clean, limit_deg=limit_deg)\n",
    "#             if not ok:\n",
    "#                 continue\n",
    "#             labelled_data = unroll(\n",
    "#                 labelled_data, np.float(data[col_nr['headpose.roll_angle']]))\n",
    "#             labelled_data = normalize_by_eyes(labelled_data)\n",
    "#             features[face_id] = pure_landmarks(labelled_data)\n",
    "#     return features\n",
    "\n",
    "# faces = get_faces(\"../data/data.csv\", \"../data/data_labels.txt\", face_id_clean=False, limit_deg=1)\n",
    "# np.save('../data/faces', faces)\n"
   ]
  },
  {
   "cell_type": "code",
   "execution_count": 3,
   "metadata": {},
   "outputs": [],
   "source": [
    "faces = np.load('../data/faces.npy')\n",
    "faces = faces[np.asarray(faces) is not None][0]"
   ]
  },
  {
   "cell_type": "code",
   "execution_count": 5,
   "metadata": {},
   "outputs": [
    {
     "name": "stdout",
     "output_type": "stream",
     "text": [
      "34\n"
     ]
    },
    {
     "data": {
      "text/plain": [
       "'5eada737163b3cd6061b8409e2895b4a'"
      ]
     },
     "execution_count": 5,
     "metadata": {},
     "output_type": "execute_result"
    }
   ],
   "source": [
    "manual_fwhr = pd.read_csv('../data/manual_fwhr.csv', engine='c')\n",
    "faceid = manual_fwhr['md5']\n",
    "faceid = list(set(faces.keys()).intersection(faceid))\n",
    "print(len(faceid))\n",
    "faceid = faceid[1]\n",
    "face = faces[faceid][0]\n",
    "faceid"
   ]
  },
  {
   "cell_type": "code",
   "execution_count": 6,
   "metadata": {},
   "outputs": [],
   "source": [
    "face = np.array(list(zip(face[::2], face[1::2])))\n",
    "face = face[face[:,0].argsort()]\n",
    "face_x = face[:, 0]\n",
    "face_y = face[:, 1]"
   ]
  },
  {
   "cell_type": "code",
   "execution_count": 22,
   "metadata": {},
   "outputs": [
    {
     "data": {
      "image/png": "[encoded data removed]",
      "text/plain": [
       "<Figure size 432x288 with 1 Axes>"
      ]
     },
     "metadata": {
      "needs_background": "light"
     },
     "output_type": "display_data"
    },
    {
     "name": "stdout",
     "output_type": "stream",
     "text": [
      "1.9322668639636071\n"
     ]
    }
   ],
   "source": [
    "# find the points for fwhr manually\n",
    "plt.plot(face_x, face_y, 'o')\n",
    "plt.plot(face_x[0], face_y[0], 'ro')\n",
    "plt.plot(face_x[-1], face_y[-1], 'ro')\n",
    "lip_top = 55\n",
    "eye_lid_left = 25\n",
    "eye_lid_right = 84\n",
    "plt.plot(face_x[lip_top], face_y[lip_top], 'ro')\n",
    "plt.plot(face_x[eye_lid_left], face_y[eye_lid_left], 'ro')\n",
    "plt.plot(face_x[eye_lid_right], face_y[eye_lid_right], 'ro')\n",
    "plt.grid()\n",
    "plt.show()\n",
    "width = np.abs(face_x[0] - face_x[-1]) # difference between landarmks the most to the left and right\n",
    "# average the y coord of the eye lids and then substract lip top\n",
    "height = np.abs(np.mean((face_y[eye_lid_left], face_y[eye_lid_right])) - face_y[lip_top])\n",
    "print(width / height)"
   ]
  },
  {
   "cell_type": "code",
   "execution_count": 23,
   "metadata": {},
   "outputs": [
    {
     "data": {
      "text/plain": [
       "1.69546437488853"
      ]
     },
     "execution_count": 23,
     "metadata": {},
     "output_type": "execute_result"
    }
   ],
   "source": [
    "#### fwhr from Michal\n",
    "manual_fwhr.set_index('md5').loc[faceid, 'mfwhr']"
   ]
  },
  {
   "cell_type": "code",
   "execution_count": 3,
   "metadata": {},
   "outputs": [],
   "source": [
    "# auto_fwhr = get_features(\"../data/data.csv\", fwhr, \"../data/data_labels.txt\", \"../data/gender.csv\", face_id_clean=False, limit_deg=1)\n",
    "# np.save('../data/auto_fwhr_widest.npy', auto_fwhr)"
   ]
  },
  {
   "cell_type": "code",
   "execution_count": 24,
   "metadata": {},
   "outputs": [],
   "source": [
    "# automated fwhr by a script\n",
    "auto_fwhr = np.load('../data/auto_fwhr_widest.npy')\n",
    "# auto_fwhr = np.load('../data/auto_fwhr.npy')\n",
    "auto_fwhr = auto_fwhr[np.asarray(auto_fwhr) is not None][0]"
   ]
  },
  {
   "cell_type": "code",
   "execution_count": 25,
   "metadata": {},
   "outputs": [
    {
     "data": {
      "text/plain": [
       "1.9322668639636071"
      ]
     },
     "execution_count": 25,
     "metadata": {},
     "output_type": "execute_result"
    }
   ],
   "source": [
    "auto_fwhr[faceid][0]"
   ]
  },
  {
   "cell_type": "code",
   "execution_count": 26,
   "metadata": {},
   "outputs": [
    {
     "name": "stdout",
     "output_type": "stream",
     "text": [
      "0.9110814651216121 1.5070967390969692\n",
      "0.23680248907507706 1.139668218679408\n",
      "0.2671701872694987 1.1129529017941409\n",
      "0.09334481483306312 1.0491696157559938\n",
      "0.2029638455989089 1.1119085913193727\n",
      "-0.032965828498038974 0.98248806061448\n",
      "0.31949408916277044 1.1815552337272777\n",
      "0.33463628889422226 1.194302607859105\n",
      "0.2355493823710315 1.1486855316524303\n",
      "0.35288768529411807 1.198241196420103\n",
      "0.17779097804154675 1.088904735122472\n",
      "0.4541259012671153 1.2383484116849395\n",
      "0.17336652070885195 1.1083280007494298\n",
      "0.3748169513627495 1.2183852781614544\n",
      "0.12082638161636705 1.0571785646395986\n",
      "0.7253402628054229 1.352308127648349\n",
      "0.08175647032950506 1.0411388541085997\n",
      "0.2417217289608926 1.1178301797097039\n",
      "0.10771180523748591 1.065299529767693\n",
      "0.1604610162096689 1.0871958656208507\n",
      "0.643063819606952 1.4113521152699866\n",
      "0.20523799253197517 1.1186450326104678\n",
      "0.1642648309055179 1.0826730885079265\n",
      "0.650590482925929 1.374935988297878\n",
      "0.2788414700251325 1.1585454753784084\n",
      "-0.04995098402519216 0.9751217556965996\n",
      "0.3046226881167744 1.1576624795292652\n",
      "0.1047692351830194 1.0509314731676278\n",
      "-0.008710877699718012 0.9960461121286109\n",
      "0.13195696128747425 1.0687051695805296\n",
      "0.8144478039209695 1.521516575867323\n",
      "0.21997533774584355 1.1151806422746193\n",
      "0.22492223478301798 1.1155097230654052\n",
      "0.1974916675545666 1.0882720780095771\n"
     ]
    },
    {
     "data": {
      "image/png": "[encoded data removed]",
      "text/plain": [
       "<Figure size 432x288 with 1 Axes>"
      ]
     },
     "metadata": {
      "needs_background": "light"
     },
     "output_type": "display_data"
    }
   ],
   "source": [
    "# correlation between auto and manual \n",
    "ids = manual_fwhr['md5']\n",
    "ids = list(set(faces.keys()).intersection(ids))\n",
    "autos = []\n",
    "manuals = []\n",
    "for ii in ids:\n",
    "    print(\n",
    "    auto_fwhr[ii][0] - manual_fwhr.set_index('md5').loc[ii, 'mfwhr'],  auto_fwhr[ii][0] / manual_fwhr.set_index('md5').loc[ii, 'mfwhr']\n",
    "    )\n",
    "    autos.append(auto_fwhr[ii][0])\n",
    "    manuals.append(manual_fwhr.set_index('md5').loc[ii, 'mfwhr'])\n",
    "plt.plot(autos, manuals, 'o')\n",
    "plt.show()"
   ]
  },
  {
   "cell_type": "code",
   "execution_count": null,
   "metadata": {},
   "outputs": [],
   "source": []
  }
 ],
 "metadata": {
  "kernelspec": {
   "display_name": "Python 3",
   "language": "python",
   "name": "python3"
  },
  "language_info": {
   "codemirror_mode": {
    "name": "ipython",
    "version": 3
   },
   "file_extension": ".py",
   "mimetype": "text/x-python",
   "name": "python",
   "nbconvert_exporter": "python",
   "pygments_lexer": "ipython3",
   "version": "3.7.0"
  }
 },
 "nbformat": 4,
 "nbformat_minor": 2
}
