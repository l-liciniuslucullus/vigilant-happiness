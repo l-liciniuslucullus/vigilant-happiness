{
 "cells": [
  {
   "cell_type": "code",
   "execution_count": 2,
   "metadata": {},
   "outputs": [],
   "source": [
    "import numpy as np\n",
    "from logreg import logreg, get_data, reduce_dim\n"
   ]
  },
  {
   "cell_type": "code",
   "execution_count": 11,
   "metadata": {},
   "outputs": [
    {
     "name": "stdout",
     "output_type": "stream",
     "text": [
      "getting data:  ../data/fwhr_gender_test_michal.npy\n",
      "score:  0.5779303597956448\n",
      "getting data:  ../data/fwhr_test.npy\n",
      "score:  0.5\n",
      "getting data:  ../data/ellipsetest.npy\n",
      "score:  0.6609538992958681\n",
      "getting data:  ../data/polyfit6_test.npy\n",
      "score:  0.7019541770837108\n",
      "getting data:  ../data/butterfly_catastrophe_test.npy\n",
      "score:  0.6776900129231735\n",
      "getting data:  ../data/face_contour_test.npy\n",
      "score:  0.7585830404483255\n"
     ]
    },
    {
     "data": {
      "text/plain": [
       "0.7585830404483255"
      ]
     },
     "execution_count": 11,
     "metadata": {},
     "output_type": "execute_result"
    }
   ],
   "source": [
    "logreg(*get_data('../data/fwhr_gender_test_michal.npy'))\n",
    "# logreg(*get_data('../data/ellipse_picked_test.npy'))\n",
    "logreg(*get_data('../data/fwhr_test.npy'))\n",
    "X, y = get_data('../data/ellipsetest.npy')\n",
    "logreg(X, y)\n",
    "# logreg(reduce_dim(X, 2), y)\n",
    "# print('only y coord of the ellipse')\n",
    "# logreg(X[:, 1].reshape(-1, 1), y)\n",
    "X, y = get_data('../data/polyfit6_test.npy')\n",
    "logreg(X, y)\n",
    "# logreg(reduce_dim(X, 5), y)\n",
    "\n",
    "X, y = get_data('../data/butterfly_catastrophe_test.npy')\n",
    "logreg(X, y)\n",
    "# logreg(reduce_dim(X, 3), y)\n",
    "logreg(*get_data('../data/face_contour_test.npy'))"
   ]
  },
  {
   "cell_type": "code",
   "execution_count": 12,
   "metadata": {},
   "outputs": [
    {
     "name": "stdout",
     "output_type": "stream",
     "text": [
      "getting data:  ../data/fwhr.npy\n",
      "score:  0.5\n",
      "getting data:  ../data/ellipse.npy\n",
      "score:  0.5478916058441989\n",
      "getting data:  ../data/polyfit6.npy\n",
      "score:  0.5617627411957508\n",
      "getting data:  ../data/butterfly_catastrophe.npy\n",
      "score:  0.545441661964857\n",
      "getting data:  ../data/face_contour.npy\n",
      "score:  0.7371328471077762\n"
     ]
    },
    {
     "data": {
      "text/plain": [
       "0.7371328471077762"
      ]
     },
     "execution_count": 12,
     "metadata": {},
     "output_type": "execute_result"
    }
   ],
   "source": [
    "# logreg(*get_data('../data/fwhr_gender_test_michal.npy'))\n",
    "logreg(*get_data('../data/fwhr.npy'))\n",
    "# logreg(*get_data('../data/ellipse_picked.npy'))\n",
    "X, y = get_data('../data/ellipse.npy')\n",
    "logreg(X, y)\n",
    "# logreg(reduce_dim(X, 2), y)\n",
    "# print('only y coord of the ellipse')\n",
    "# logreg(X[:, 1].reshape(-1, 1), y)\n",
    "X, y = get_data('../data/polyfit6.npy')\n",
    "logreg(X, y)\n",
    "# logreg(reduce_dim(X, 5), y)\n",
    "\n",
    "X, y = get_data('../data/butterfly_catastrophe.npy')\n",
    "logreg(X, y)\n",
    "# logreg(reduce_dim(X, 3), y)\n",
    "logreg(*get_data('../data/face_contour.npy'))"
   ]
  },
  {
   "cell_type": "code",
   "execution_count": null,
   "metadata": {},
   "outputs": [],
   "source": []
  }
 ],
 "metadata": {
  "kernelspec": {
   "display_name": "Python 3",
   "language": "python",
   "name": "python3"
  },
  "language_info": {
   "codemirror_mode": {
    "name": "ipython",
    "version": 3
   },
   "file_extension": ".py",
   "mimetype": "text/x-python",
   "name": "python",
   "nbconvert_exporter": "python",
   "pygments_lexer": "ipython3",
   "version": "3.7.0"
  }
 },
 "nbformat": 4,
 "nbformat_minor": 2
}
