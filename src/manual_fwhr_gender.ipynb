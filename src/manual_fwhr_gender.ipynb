{
 "cells": [
  {
   "cell_type": "code",
   "execution_count": 1,
   "metadata": {},
   "outputs": [],
   "source": [
    "import numpy as np\n",
    "from features_funcs import pure_landmarks, fwhr\n",
    "from get_features import get_labelled_landmarks, get_features\n",
    "from utils import facing_straight, labels_to_col_nr, normalize_by_eyes, unroll\n",
    "import matplotlib.pyplot as plt\n",
    "import pandas as pd\n",
    "import logreg as lg\n"
   ]
  },
  {
   "cell_type": "code",
   "execution_count": 2,
   "metadata": {},
   "outputs": [],
   "source": [
    "manual_fwhr = pd.read_csv('../data/manual_fwhr.csv', engine='c')\n",
    "gender = pd.read_csv('../data/gender.csv', header=None, names=['md5', 'gender'], engine='c')"
   ]
  },
  {
   "cell_type": "code",
   "execution_count": 3,
   "metadata": {},
   "outputs": [],
   "source": [
    "gender = gender.set_index('md5')\n",
    "manual_fwhr = manual_fwhr.set_index('md5')"
   ]
  },
  {
   "cell_type": "code",
   "execution_count": 4,
   "metadata": {},
   "outputs": [
    {
     "name": "stdout",
     "output_type": "stream",
     "text": [
      "1703\n"
     ]
    }
   ],
   "source": [
    "inter = gender.merge(manual_fwhr, on='md5')\n",
    "print(len(inter))"
   ]
  },
  {
   "cell_type": "code",
   "execution_count": 5,
   "metadata": {},
   "outputs": [],
   "source": [
    "gend = np.array(list(inter['gender']))\n",
    "mfwhr = np.array(list(inter['mfwhr']))"
   ]
  },
  {
   "cell_type": "code",
   "execution_count": 6,
   "metadata": {},
   "outputs": [
    {
     "name": "stdout",
     "output_type": "stream",
     "text": [
      "score:  0.6125648279113626\n"
     ]
    },
    {
     "data": {
      "text/plain": [
       "0.6125648279113626"
      ]
     },
     "execution_count": 6,
     "metadata": {},
     "output_type": "execute_result"
    }
   ],
   "source": [
    "lg.logreg(mfwhr.reshape(-1,1), gend)"
   ]
  },
  {
   "cell_type": "code",
   "execution_count": 7,
   "metadata": {},
   "outputs": [],
   "source": [
    "# those faces are only those that face straight (pitch < 1deg, yaw < 1deg)\n",
    "faces = np.load('../data/faces.npy')\n",
    "faces = faces[np.asarray(faces) is not None][0]"
   ]
  },
  {
   "cell_type": "code",
   "execution_count": 12,
   "metadata": {},
   "outputs": [
    {
     "name": "stdout",
     "output_type": "stream",
     "text": [
      "34\n"
     ]
    }
   ],
   "source": [
    "faceids = list(set(faces.keys()).intersection(inter.index.values))\n",
    "print(len(faceids))"
   ]
  },
  {
   "cell_type": "code",
   "execution_count": 21,
   "metadata": {},
   "outputs": [
    {
     "name": "stdout",
     "output_type": "stream",
     "text": [
      "score:  0.5\n"
     ]
    },
    {
     "data": {
      "text/plain": [
       "0.5"
      ]
     },
     "execution_count": 21,
     "metadata": {},
     "output_type": "execute_result"
    }
   ],
   "source": [
    "mf = manual_fwhr.loc[faceids]['mfwhr'].values\n",
    "g = gender.loc[faceids]['gender'].values\n",
    "lg.logreg(mf.reshape(-1, 1), g)"
   ]
  },
  {
   "cell_type": "code",
   "execution_count": 9,
   "metadata": {},
   "outputs": [
    {
     "name": "stdout",
     "output_type": "stream",
     "text": [
      "34\n"
     ]
    }
   ],
   "source": [
    "faceids = list(set(faces.keys()).intersection(manual_fwhr.index.values))\n",
    "print(len(faceids))"
   ]
  },
  {
   "cell_type": "code",
   "execution_count": 10,
   "metadata": {},
   "outputs": [
    {
     "name": "stdout",
     "output_type": "stream",
     "text": [
      "16926\n"
     ]
    }
   ],
   "source": [
    "faceids = list(set(faces.keys()).intersection(gender.index.values))\n",
    "print(len(faceids))"
   ]
  },
  {
   "cell_type": "code",
   "execution_count": null,
   "metadata": {},
   "outputs": [],
   "source": []
  }
 ],
 "metadata": {
  "kernelspec": {
   "display_name": "Python 3",
   "language": "python",
   "name": "python3"
  },
  "language_info": {
   "codemirror_mode": {
    "name": "ipython",
    "version": 3
   },
   "file_extension": ".py",
   "mimetype": "text/x-python",
   "name": "python",
   "nbconvert_exporter": "python",
   "pygments_lexer": "ipython3",
   "version": "3.7.0"
  }
 },
 "nbformat": 4,
 "nbformat_minor": 2
}
